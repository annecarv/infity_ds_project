{
 "cells": [
  {
   "cell_type": "code",
   "execution_count": 91,
   "metadata": {},
   "outputs": [],
   "source": [
    "import pandas as pd\n",
    "import matplotlib.pyplot as plt\n",
    "import numpy as np\n",
    "import seaborn as sns\n",
    "from xgboost import XGBClassifier\n",
    "from sklearn.metrics import classification_report, confusion_matrix, accuracy_score, mean_squared_error\n",
    "from sklearn.preprocessing import LabelEncoder, OneHotEncoder, OrdinalEncoder, RobustScaler\n",
    "from sklearn.model_selection import train_test_split\n",
    "from sklearn.ensemble import RandomForestClassifier, RandomForestRegressor\n",
    "from sklearn.compose import ColumnTransformer\n",
    "from sklearn.pipeline import make_pipeline, Pipeline\n",
    "from sklearn.base import BaseEstimator, TransformerMixin\n",
    "from sklearn.linear_model import LinearRegression\n",
    "from sklearn.tree import DecisionTreeRegressor\n",
    "from sklearn import set_config\n",
    "from copy import deepcopy"
   ]
  },
  {
   "cell_type": "code",
   "execution_count": 35,
   "metadata": {},
   "outputs": [],
   "source": [
    "ordinal_encoder = OrdinalEncoder()\n",
    "onehot_encoder = OneHotEncoder(sparse_output=False)\n",
    "label_encoder = LabelEncoder()"
   ]
  },
  {
   "cell_type": "code",
   "execution_count": 36,
   "metadata": {},
   "outputs": [],
   "source": [
    "dataframe = pd.read_csv('C:/Users/anne.borges/OneDrive - FORTBRASIL ADM CARTOES DE CRED SA/Documentos/infinity_ds_project/data/walmart.csv')\n",
    "df = dataframe\n",
    "df_ml = df"
   ]
  },
  {
   "cell_type": "code",
   "execution_count": null,
   "metadata": {},
   "outputs": [],
   "source": [
    "print(df.dtypes)"
   ]
  },
  {
   "cell_type": "code",
   "execution_count": null,
   "metadata": {},
   "outputs": [],
   "source": [
    "print(df_ml.dtypes)"
   ]
  },
  {
   "cell_type": "code",
   "execution_count": null,
   "metadata": {},
   "outputs": [],
   "source": [
    "df_ml.head()"
   ]
  },
  {
   "cell_type": "code",
   "execution_count": null,
   "metadata": {},
   "outputs": [],
   "source": [
    "df_ml.info()"
   ]
  },
  {
   "cell_type": "markdown",
   "metadata": {},
   "source": [
    "Tratamento dos Dados"
   ]
  },
  {
   "cell_type": "code",
   "execution_count": 98,
   "metadata": {},
   "outputs": [
    {
     "name": "stdout",
     "output_type": "stream",
     "text": [
      "Gender                        0\n",
      "Age                           0\n",
      "Occupation                    0\n",
      "City_Category                 0\n",
      "Stay_In_Current_City_Years    0\n",
      "Marital_Status                0\n",
      "Product_Category              0\n",
      "Purchase                      0\n",
      "dtype: int64\n"
     ]
    }
   ],
   "source": [
    "print(df_ml.isnull().sum())"
   ]
  },
  {
   "cell_type": "code",
   "execution_count": null,
   "metadata": {},
   "outputs": [],
   "source": [
    "valores_unicos = df_ml['Age'].value_counts()\n",
    "print(len(valores_unicos))\n",
    "valores_unicos\n"
   ]
  },
  {
   "cell_type": "code",
   "execution_count": 49,
   "metadata": {},
   "outputs": [],
   "source": [
    "df['Marital_Status'] = df['Marital_Status'].astype(str)"
   ]
  },
  {
   "cell_type": "code",
   "execution_count": 42,
   "metadata": {},
   "outputs": [],
   "source": [
    "df_ml = df_ml.drop(columns=['User_ID', 'Product_ID'], axis=1)"
   ]
  },
  {
   "cell_type": "code",
   "execution_count": 43,
   "metadata": {},
   "outputs": [],
   "source": [
    "df_ml['Stay_In_Current_City_Years'] = df_ml['Stay_In_Current_City_Years'].str.replace('+', '').astype(int)"
   ]
  },
  {
   "cell_type": "code",
   "execution_count": 44,
   "metadata": {},
   "outputs": [],
   "source": [
    "faixa_etaria = {\n",
    "    '0-17': 0,\n",
    "    '18-25': 1,\n",
    "    '26-35': 2,\n",
    "    '36-45': 3,\n",
    "    '46-50': 4,\n",
    "    '51-55': 5,\n",
    "    '55+': 6\n",
    "}\n",
    "\n",
    "df_ml['Age'] = df_ml['Age'].map(faixa_etaria)"
   ]
  },
  {
   "cell_type": "code",
   "execution_count": 45,
   "metadata": {},
   "outputs": [],
   "source": [
    "df_ml['Gender'] = df_ml['Gender'].astype(str)\n",
    "df_ml['City_Category'] = df_ml['City_Category'].astype(str)\n",
    "df_ml['Occupation'] = df_ml['Occupation'].astype(str)\n",
    "df_ml['Product_Category'] = df_ml['Product_Category'].astype(str)"
   ]
  },
  {
   "cell_type": "markdown",
   "metadata": {},
   "source": [
    "Percentuais e Cálculos"
   ]
  },
  {
   "cell_type": "code",
   "execution_count": 51,
   "metadata": {},
   "outputs": [],
   "source": [
    "qtd_clientes_unicos = df['User_ID'].nunique()\n",
    "qtd_produtos = df['Product_ID'].nunique()\n",
    "qtd_ocupacoes = df['Occupation'].nunique()\n",
    "qtd_cidades = df['City_Category'].nunique()\n",
    "qtd_publico_feminino =  df[df['Gender'] == 'F']['User_ID'].nunique()\n",
    "qtd_publico_masculino =  df[df['Gender'] == 'M']['User_ID'].nunique()\n",
    "qtd_total_compras = df['Purchase'].count()\n",
    "qtd_compras_por_cidade = df.groupby('City_Category')['Purchase'].sum()\n",
    "qtd_compras_por_categoria = df.groupby('Product_Category')['Purchase'].count()\n",
    "qtd_compras_por_product_id = df.groupby('Product_ID')['Purchase'].count()\n",
    "\n",
    "qtd_compras_por_categoria_genero = df.groupby(['Product_Category', 'Gender'])['Purchase'].count().unstack()\n",
    "qtd_compras_por_estado_civil = df.groupby('Marital_Status')['Purchase'].sum()\n",
    "\n",
    "qtd_usuarios_por_cidade = df.groupby('City_Category')['User_ID'].nunique().reset_index()\n",
    "qtd_usuarios_por_cidade = df.groupby('Product_ID')['User_ID'].nunique().reset_index()\n"
   ]
  },
  {
   "cell_type": "code",
   "execution_count": 52,
   "metadata": {},
   "outputs": [],
   "source": [
    "mediana_compras = df['Purchase'].median()\n",
    "mediana_compras_por_faixa_etaria = df.groupby('Age')['Purchase'].median()"
   ]
  },
  {
   "cell_type": "code",
   "execution_count": 53,
   "metadata": {},
   "outputs": [],
   "source": [
    "percentual_publico_feminino = (qtd_publico_feminino / qtd_clientes_unicos) * 100\n",
    "percentual_publico_masculino = (qtd_publico_masculino / qtd_clientes_unicos) * 100"
   ]
  },
  {
   "cell_type": "code",
   "execution_count": null,
   "metadata": {},
   "outputs": [],
   "source": [
    "percentual_compras_por_cidade = (qtd_compras_por_cidade / qtd_compras_por_cidade.sum()) * 100\n",
    "percentual_compras_por_cidade"
   ]
  },
  {
   "cell_type": "code",
   "execution_count": null,
   "metadata": {},
   "outputs": [],
   "source": [
    "percentual_compras_por_estado_civil = (qtd_compras_por_estado_civil / qtd_compras_por_estado_civil.sum()) * 100\n",
    "percentual_compras_por_estado_civil"
   ]
  },
  {
   "cell_type": "code",
   "execution_count": null,
   "metadata": {},
   "outputs": [],
   "source": [
    "percentual_compras_categoria_produto = (qtd_compras_por_categoria / qtd_compras_por_categoria.sum()) * 100\n",
    "percentual_compras_categoria_produto"
   ]
  },
  {
   "cell_type": "code",
   "execution_count": null,
   "metadata": {},
   "outputs": [],
   "source": [
    "percentual_compras_por_product_id = (qtd_compras_por_product_id / qtd_compras_por_product_id.sum()) * 100\n",
    "percentual_compras_por_product_id_top_10 = percentual_compras_por_product_id.nlargest(10)\n",
    "percentual_compras_por_product_id_top_10"
   ]
  },
  {
   "cell_type": "code",
   "execution_count": 58,
   "metadata": {},
   "outputs": [],
   "source": [
    "media_compras_por_genero = df.groupby('Gender')['Purchase'].mean()\n",
    "percentual_compras_genero = (df.groupby('Gender')['Purchase'].count() / qtd_total_compras) * 100\n",
    "percentual_compras_categoria_genero = qtd_compras_por_categoria_genero.div(qtd_compras_por_categoria_genero.sum(axis=1), axis=0) * 100\n"
   ]
  },
  {
   "cell_type": "code",
   "execution_count": 81,
   "metadata": {},
   "outputs": [],
   "source": [
    "Q1 = df['Purchase'].quantile(0.25)\n",
    "Q3 = df['Purchase'].quantile(0.75)\n",
    "IQR = Q3 - Q1\n",
    "\n",
    "limite_superior = Q3 + 1.5 * IQR\n",
    "limite_inferior = Q1 - 1.5 * IQR\n",
    "\n",
    "outliers = df[(df['Purchase'] > limite_superior) | (df['Purchase'] < limite_inferior)]"
   ]
  },
  {
   "cell_type": "markdown",
   "metadata": {},
   "source": [
    "Modelos ML - Pipeline e Encoding"
   ]
  },
  {
   "cell_type": "code",
   "execution_count": null,
   "metadata": {},
   "outputs": [],
   "source": []
  },
  {
   "cell_type": "code",
   "execution_count": null,
   "metadata": {},
   "outputs": [],
   "source": []
  },
  {
   "cell_type": "code",
   "execution_count": null,
   "metadata": {},
   "outputs": [],
   "source": []
  },
  {
   "cell_type": "code",
   "execution_count": null,
   "metadata": {},
   "outputs": [],
   "source": [
    "#ordinal_columns = ['Age', 'Stay_In_Current_City_Years'] - Já tratado manualmente\n",
    "categoricos_encoder = ['Gender', 'City_Category', 'Occupation', 'Product_Category']\n"
   ]
  },
  {
   "cell_type": "code",
   "execution_count": null,
   "metadata": {},
   "outputs": [],
   "source": [
    "df_final_ml = df_ml.copy()\n",
    "for itens in categoricos_encoder:\n",
    "    df_final_ml[itens] = label_encoder.fit_transform(df_ml[itens])\n",
    "\n",
    "df_final_ml.head()\n"
   ]
  },
  {
   "cell_type": "code",
   "execution_count": null,
   "metadata": {},
   "outputs": [],
   "source": [
    "categoricos = ['Gender',\n",
    "            'Age',\n",
    "            'Occupation',\n",
    "            'City_Category',\n",
    "            'Stay_In_Current_City_Years',\n",
    "            'Marital_Status',\n",
    "            'Product_Category',\n",
    "    ]\n",
    "features = ['Purchase']"
   ]
  },
  {
   "cell_type": "code",
   "execution_count": 60,
   "metadata": {},
   "outputs": [],
   "source": [
    "# Features (X) e alvo para Classificação (y1), Regressão (y2)\n",
    "X = df_final_ml.drop(['Product_Category', 'Purchase'], axis=1)\n",
    "y1 = df_final_ml['Product_Category']  # Alvo para Classificação\n",
    "y2 = df_final_ml['Purchase']  # Alvo para Regressão\n"
   ]
  },
  {
   "cell_type": "code",
   "execution_count": 97,
   "metadata": {},
   "outputs": [
    {
     "data": {
      "text/plain": [
       "(['Gender',\n",
       "  'Age',\n",
       "  'Occupation',\n",
       "  'City_Category',\n",
       "  'Stay_In_Current_City_Years',\n",
       "  'Marital_Status',\n",
       "  'Product_Category'],\n",
       " 550068)"
      ]
     },
     "execution_count": 97,
     "metadata": {},
     "output_type": "execute_result"
    }
   ],
   "source": [
    "X = categoricos\n",
    "y = len(df_final_ml[features])\n",
    "X, y"
   ]
  },
  {
   "cell_type": "code",
   "execution_count": null,
   "metadata": {},
   "outputs": [],
   "source": [
    "X_train, X_test, y_train, y_test = train_test_split(X, y, test_size=0.2, random_state=42)"
   ]
  },
  {
   "cell_type": "markdown",
   "metadata": {},
   "source": [
    "# Divisão dos dados em treino e teste\n",
    "\n",
    "Classificação:\n",
    "\n",
    "X_train1: Dados de treino (80%) com as features para a classificação.\n",
    "X_test1: Dados de teste (20%) com as features para a classificação.\n",
    "\n",
    "y_train1: Rótulos de treino (80%) para a classificação (categorias dos produtos).\n",
    "y_test1: Rótulos de teste (20%) para a classificação.\n",
    "\n",
    "Regressão:\n",
    "\n",
    "X_train2: Dados de treino (80%) com as features para a regressão.\n",
    "X_test2: Dados de teste (20%) com as features para a regressão.\n",
    "y_train2: Rótulos de treino (80%) para a regressão (valores de compra).\n",
    "y_test2: Rótulos de teste (20%) para a regressão."
   ]
  },
  {
   "cell_type": "code",
   "execution_count": 61,
   "metadata": {},
   "outputs": [],
   "source": [
    "X_train1, X_test1, y_train1, y_test1 = train_test_split(X, y1, test_size=0.2, random_state=42)  # Classificação\n",
    "X_train2, X_test2, y_train2, y_test2 = train_test_split(X, y2, test_size=0.2, random_state=42)  #Regressão\n"
   ]
  },
  {
   "cell_type": "code",
   "execution_count": null,
   "metadata": {},
   "outputs": [],
   "source": [
    "y_train1.value_counts(normalize=True)\n"
   ]
  },
  {
   "cell_type": "code",
   "execution_count": null,
   "metadata": {},
   "outputs": [],
   "source": [
    "rf_classificador = RandomForestClassifier()\n",
    "rf_classificador.fit(X_train1, y_train1)\n",
    "y_pred1 = rf_classificador.predict(X_test1)\n",
    "acuracia = accuracy_score(y_test1, y_pred1)\n",
    "print(f'Acurácia: {acuracia:.2f}')\n"
   ]
  },
  {
   "cell_type": "code",
   "execution_count": null,
   "metadata": {},
   "outputs": [],
   "source": [
    "model_xgb = XGBClassifier()\n",
    "model_xgb.fit(X_train1, y_train1)\n",
    "y_pred_xgb = model_xgb.predict(X_test1)\n",
    "acuracia = accuracy_score(y_test1, y_pred_xgb)\n",
    "print(classification_report(y_test1, y_pred_xgb))"
   ]
  },
  {
   "cell_type": "code",
   "execution_count": null,
   "metadata": {},
   "outputs": [],
   "source": [
    "rf_regressor = RandomForestRegressor()\n",
    "\n",
    "rf_regressor.fit(X_train2, y_train2)\n",
    "\n",
    "y_pred2 = rf_regressor.predict(X_test2)\n",
    "\n",
    "mse = mean_squared_error(y_test2, y_pred2)\n",
    "print(f'Mean Squared Error da Regressão: {mse:.2f}')\n"
   ]
  },
  {
   "cell_type": "markdown",
   "metadata": {},
   "source": [
    "Matriz de Correlação"
   ]
  },
  {
   "cell_type": "code",
   "execution_count": null,
   "metadata": {},
   "outputs": [],
   "source": [
    "correlacao_matrix = df_final_ml.corr()\n",
    "\n",
    "plt.figure(figsize=(10, 8))\n",
    "sns.heatmap(correlacao_matrix, annot=True, cmap='coolwarm', fmt='.2f')\n",
    "plt.title(\"Matriz de Correlação\")\n",
    "plt.show()"
   ]
  },
  {
   "cell_type": "markdown",
   "metadata": {},
   "source": [
    "1. A correlação entre Purchase e Product_Category é negativa (-0.43), ou seja, conforme o valor da categoria do produto aumenta, o valor de compra tende a diminuir.\n",
    "2. O Gênero (Gender) tem uma correlação positiva com Purchase (0.06), mas o valor é baixo, indicando uma relação fraca.\n",
    "3. A maior correlação observada é entre Marital_Status e Age (0.31), sugerindo que a idade pode influenciar o estado civil."
   ]
  },
  {
   "cell_type": "markdown",
   "metadata": {},
   "source": [
    "Distribuição dos Clientes"
   ]
  },
  {
   "cell_type": "code",
   "execution_count": null,
   "metadata": {},
   "outputs": [],
   "source": [
    "num_categorias = len(df['Marital_Status'])\n",
    "cores_aleatorias = np.random.rand(num_categorias, 3)\n",
    "\n",
    "plt.figure(figsize=(12, 8))\n",
    "\n",
    "plt.bar(percentual_compras_por_estado_civil.index, \n",
    "        percentual_compras_por_estado_civil.values, \n",
    "        color=cores_aleatorias,\n",
    "        edgecolor='black')\n",
    "\n",
    "plt.title('Percentual de Compras por Estado Civil', fontsize=16)\n",
    "plt.xlabel('Estado Civil', fontsize=12)\n",
    "plt.ylabel('Percentual(%)', fontsize=12)\n",
    "\n",
    "for i in range(len(percentual_compras_por_estado_civil)):\n",
    "    plt.text(i, percentual_compras_por_estado_civil.values[i] + 1,\n",
    "             f'{percentual_compras_por_estado_civil.values[i]:.1f}%',\n",
    "             ha='center', va='bottom')\n",
    "\n",
    "plt.tight_layout()\n",
    "plt.show()\n"
   ]
  },
  {
   "cell_type": "code",
   "execution_count": null,
   "metadata": {},
   "outputs": [],
   "source": [
    "num_categorias = len(df['City_Category'])\n",
    "cores_aleatorias = np.random.rand(num_categorias, 3)\n",
    "\n",
    "plt.figure(figsize=(12, 8))\n",
    "\n",
    "plt.bar(percentual_compras_por_cidade.index, \n",
    "        percentual_compras_por_cidade.values, \n",
    "        color=cores_aleatorias, \n",
    "        edgecolor='black')\n",
    "\n",
    "plt.title('Percentual de Compras por Cidade', fontsize=16)\n",
    "plt.xlabel('Cidade', fontsize=12)\n",
    "plt.ylabel('Percentual(%)', fontsize=12)\n",
    "\n",
    "for i in range(len(percentual_compras_por_cidade)):\n",
    "    plt.text(i, percentual_compras_por_cidade.values[i] + 1,\n",
    "             f'{percentual_compras_por_cidade.values[i]:.1f}%',\n",
    "             ha='center', va='bottom')\n",
    "\n",
    "plt.tight_layout()\n",
    "plt.show()\n"
   ]
  },
  {
   "cell_type": "code",
   "execution_count": null,
   "metadata": {},
   "outputs": [],
   "source": [
    "categorias = ['Feminino', 'Masculino']\n",
    "percentuais = [percentual_publico_feminino, percentual_publico_masculino]\n",
    "\n",
    "fig, ax = plt.subplots(figsize=(8, 6))\n",
    "\n",
    "bars = ax.bar(categorias, percentuais, color=['lavender', 'lightgreen'])\n",
    "\n",
    "plt.xlabel('Gênero')\n",
    "plt.ylabel('Percentual(%)')\n",
    "plt.title('Visão Geral do Público (Por Gênero)')\n",
    "\n",
    "for bar in bars:\n",
    "    yval = bar.get_height()\n",
    "    ax.text(bar.get_x() + bar.get_width() / 2, yval, f'{yval:.1f}%', ha='center', va='bottom')\n",
    "\n",
    "plt.tight_layout()\n",
    "plt.show()"
   ]
  },
  {
   "cell_type": "markdown",
   "metadata": {},
   "source": [
    "Média de compras por faixa etária."
   ]
  },
  {
   "cell_type": "code",
   "execution_count": null,
   "metadata": {},
   "outputs": [],
   "source": [
    "plt.figure(figsize=(10, 6))\n",
    "plt.plot(mediana_compras_por_faixa_etaria.index, mediana_compras_por_faixa_etaria.values, marker='o', linestyle='-', color='b')\n",
    "\n",
    "for i, value in enumerate(mediana_compras_por_faixa_etaria):\n",
    "    plt.text(i, value + 1, str(value), ha='center', va='bottom')\n",
    "\n",
    "plt.xlabel('Faixa Etária')\n",
    "plt.ylabel('Mediana de Compras')\n",
    "plt.title('Mediana de Compras por Faixa Etária')\n",
    "\n",
    "plt.show()\n"
   ]
  },
  {
   "cell_type": "markdown",
   "metadata": {},
   "source": [
    "Média de compras por gênero."
   ]
  },
  {
   "cell_type": "code",
   "execution_count": null,
   "metadata": {},
   "outputs": [],
   "source": [
    "\n",
    "fig, ax = plt.subplots(figsize=(8, 6))\n",
    "\n",
    "percentual_compras_genero.plot(kind='bar', color=['lavender', 'lightgreen'], ax=ax)\n",
    "\n",
    "plt.xlabel('Faixa Etária')\n",
    "plt.ylabel('Percentual(%)')\n",
    "plt.title('Percentual de Compras por Gênero')\n",
    "\n",
    "for i, value in enumerate(percentual_compras_genero):\n",
    "    perc = percentual_compras_genero.iloc[i]\n",
    "    ax.text(i, value + 1, f'{perc:.2f}%', ha='center', va='bottom', color='black')\n",
    "\n",
    "plt.show()\n"
   ]
  },
  {
   "cell_type": "markdown",
   "metadata": {},
   "source": [
    "Distribuição de Vendas por Categoria de Produto"
   ]
  },
  {
   "cell_type": "code",
   "execution_count": null,
   "metadata": {},
   "outputs": [],
   "source": [
    "percentual_compras_categoria_produto.plot(kind='bar', color='skyblue', figsize=(10, 6))\n",
    "percentual_compras_categoria_produto = percentual_compras_categoria_produto.sort_values(ascending=False)\n",
    "\n",
    "\n",
    "plt.xlabel('Produto')\n",
    "plt.ylabel('Percentual(%)')\n",
    "plt.title('Percentual de Vendas por Categoria de Produto')\n",
    "\n",
    "for i, value in enumerate(percentual_compras_categoria_produto):\n",
    "    perc = percentual_compras_categoria_produto.iloc[i]\n",
    "    ax.text(i, value + 1, f'{perc:.2f}%', ha='center', va='bottom', color='black')\n",
    "\n",
    "plt.show()"
   ]
  },
  {
   "cell_type": "code",
   "execution_count": null,
   "metadata": {},
   "outputs": [],
   "source": [
    "\n",
    "percentual_compras_por_product_id_top_10.plot(kind='bar', color='skyblue', figsize=(10, 6))\n",
    "percentual_compras_por_product_id_top_10 = percentual_compras_por_product_id_top_10.sort_values(ascending=False)\n",
    "\n",
    "\n",
    "plt.xlabel('Product Id')\n",
    "plt.ylabel('Percentual(%)')\n",
    "plt.title('Percentual Product Id Mais Vendidos (Top 10)')\n",
    "\n",
    "plt.show()"
   ]
  },
  {
   "cell_type": "code",
   "execution_count": null,
   "metadata": {},
   "outputs": [],
   "source": [
    "fig, ax = plt.subplots(figsize=(12, 8))\n",
    "\n",
    "percentual_compras_categoria_genero.plot(kind='bar', ax=ax, color=['#ff9999', '#66b3ff'])\n",
    "\n",
    "ax.set_title('Percentual de Vendas por Produto e Gênero', fontsize=16)\n",
    "ax.set_xlabel('Produto', fontsize=12)\n",
    "ax.set_ylabel('Percentual de Vendas (%)', fontsize=12)\n",
    "\n",
    "ax.legend(title='Gênero', bbox_to_anchor=(1.05, 1), loc='upper left')\n",
    "\n",
    "for p in ax.patches:\n",
    "    ax.annotate(f'{p.get_height():.1f}%',\n",
    "                (p.get_x() + p.get_width() / 2, p.get_height()),\n",
    "                ha='center', va='bottom')\n",
    "\n",
    "plt.xticks(rotation=45, ha='right')\n",
    "plt.tight_layout()\n",
    "\n",
    "plt.show()\n"
   ]
  },
  {
   "cell_type": "code",
   "execution_count": null,
   "metadata": {},
   "outputs": [],
   "source": [
    "df.boxplot(\"Purchase\", by = \"Gender\")\n",
    "df.boxplot(\"Purchase\", by = \"Occupation\")\n",
    "df.boxplot(\"Purchase\", by = \"Marital_Status\")\n",
    "df.boxplot(\"Purchase\", by = \"Product_Category\")\n",
    "df.boxplot(\"Purchase\", by = \"City_Category\")\n",
    "df.boxplot(\"Purchase\", by = \"Stay_In_Current_City_Years\")\n"
   ]
  },
  {
   "cell_type": "code",
   "execution_count": null,
   "metadata": {},
   "outputs": [],
   "source": []
  }
 ],
 "metadata": {
  "kernelspec": {
   "display_name": "Python 3",
   "language": "python",
   "name": "python3"
  },
  "language_info": {
   "codemirror_mode": {
    "name": "ipython",
    "version": 3
   },
   "file_extension": ".py",
   "mimetype": "text/x-python",
   "name": "python",
   "nbconvert_exporter": "python",
   "pygments_lexer": "ipython3",
   "version": "3.12.4"
  }
 },
 "nbformat": 4,
 "nbformat_minor": 2
}
