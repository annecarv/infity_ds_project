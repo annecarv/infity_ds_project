{
 "cells": [
  {
   "cell_type": "code",
   "execution_count": 135,
   "metadata": {},
   "outputs": [],
   "source": [
    "import pandas as pd\n",
    "import matplotlib.pyplot as plt\n",
    "import numpy as np\n",
    "import seaborn as sns\n",
    "from xgboost import XGBRegressor\n",
    "from sklearn.metrics import classification_report, confusion_matrix, accuracy_score, mean_squared_error, r2_score\n",
    "from sklearn.preprocessing import LabelEncoder, OneHotEncoder, OrdinalEncoder, RobustScaler\n",
    "from sklearn.model_selection import train_test_split\n",
    "from sklearn.ensemble import RandomForestClassifier, RandomForestRegressor, GradientBoostingRegressor\n",
    "from sklearn.compose import ColumnTransformer\n",
    "from sklearn.pipeline import make_pipeline, Pipeline\n",
    "from sklearn.base import BaseEstimator, TransformerMixin\n",
    "from sklearn.linear_model import LinearRegression, LogisticRegression, SGDClassifier, Ridge, Lasso\n",
    "from sklearn.tree import DecisionTreeRegressor\n",
    "from sklearn import set_config\n",
    "from copy import deepcopy"
   ]
  },
  {
   "cell_type": "code",
   "execution_count": 38,
   "metadata": {},
   "outputs": [],
   "source": [
    "dataframe = pd.read_csv('C:/Users/anne.borges/OneDrive - FORTBRASIL ADM CARTOES DE CRED SA/Documentos/infinity_ds_project/data/walmart.csv')\n",
    "df = dataframe\n",
    "df_ml = df"
   ]
  },
  {
   "cell_type": "markdown",
   "metadata": {},
   "source": [
    "* Não foi necessário tratar os dados para a Análise Exploratória"
   ]
  },
  {
   "cell_type": "markdown",
   "metadata": {},
   "source": [
    "Percentuais e Cálculos"
   ]
  },
  {
   "cell_type": "code",
   "execution_count": 39,
   "metadata": {},
   "outputs": [],
   "source": [
    "qtd_clientes_unicos = df['User_ID'].nunique()\n",
    "qtd_produtos = df['Product_ID'].nunique()\n",
    "qtd_ocupacoes = df['Occupation'].nunique()\n",
    "qtd_cidades = df['City_Category'].nunique()\n",
    "qtd_publico_feminino =  df[df['Gender'] == 'F']['User_ID'].nunique()\n",
    "qtd_publico_masculino =  df[df['Gender'] == 'M']['User_ID'].nunique()\n",
    "qtd_total_compras = df['Purchase'].count()\n",
    "qtd_compras_por_cidade = df.groupby('City_Category')['Purchase'].sum()\n",
    "qtd_compras_por_categoria = df.groupby('Product_Category')['Purchase'].count()\n",
    "qtd_compras_por_product_id = df.groupby('Product_ID')['Purchase'].count()\n",
    "\n",
    "qtd_compras_por_categoria_genero = df.groupby(['Product_Category', 'Gender'])['Purchase'].count().unstack()\n",
    "qtd_compras_por_estado_civil = df.groupby('Marital_Status')['Purchase'].sum()\n",
    "\n",
    "qtd_usuarios_por_cidade = df.groupby('City_Category')['User_ID'].nunique().reset_index()\n",
    "qtd_usuarios_por_cidade = df.groupby('Product_ID')['User_ID'].nunique().reset_index()\n"
   ]
  },
  {
   "cell_type": "code",
   "execution_count": 40,
   "metadata": {},
   "outputs": [],
   "source": [
    "mediana_compras = df['Purchase'].median()\n",
    "mediana_compras_por_faixa_etaria = df.groupby('Age')['Purchase'].median()"
   ]
  },
  {
   "cell_type": "code",
   "execution_count": 41,
   "metadata": {},
   "outputs": [],
   "source": [
    "percentual_publico_feminino = (qtd_publico_feminino / qtd_clientes_unicos) * 100\n",
    "percentual_publico_masculino = (qtd_publico_masculino / qtd_clientes_unicos) * 100"
   ]
  },
  {
   "cell_type": "code",
   "execution_count": null,
   "metadata": {},
   "outputs": [],
   "source": [
    "percentual_compras_por_cidade = (qtd_compras_por_cidade / qtd_compras_por_cidade.sum()) * 100\n",
    "percentual_compras_por_cidade"
   ]
  },
  {
   "cell_type": "code",
   "execution_count": null,
   "metadata": {},
   "outputs": [],
   "source": [
    "percentual_compras_por_estado_civil = (qtd_compras_por_estado_civil / qtd_compras_por_estado_civil.sum()) * 100\n",
    "percentual_compras_por_estado_civil"
   ]
  },
  {
   "cell_type": "code",
   "execution_count": null,
   "metadata": {},
   "outputs": [],
   "source": [
    "percentual_compras_categoria_produto = (qtd_compras_por_categoria / qtd_compras_por_categoria.sum()) * 100\n",
    "percentual_compras_categoria_produto"
   ]
  },
  {
   "cell_type": "code",
   "execution_count": null,
   "metadata": {},
   "outputs": [],
   "source": [
    "percentual_compras_por_product_id = (qtd_compras_por_product_id / qtd_compras_por_product_id.sum()) * 100\n",
    "percentual_compras_por_product_id_top_10 = percentual_compras_por_product_id.nlargest(10)\n",
    "percentual_compras_por_product_id_top_10"
   ]
  },
  {
   "cell_type": "code",
   "execution_count": 46,
   "metadata": {},
   "outputs": [],
   "source": [
    "media_compras_por_genero = df.groupby('Gender')['Purchase'].mean()\n",
    "percentual_compras_genero = (df.groupby('Gender')['Purchase'].count() / qtd_total_compras) * 100\n",
    "percentual_compras_categoria_genero = qtd_compras_por_categoria_genero.div(qtd_compras_por_categoria_genero.sum(axis=1), axis=0) * 100\n"
   ]
  },
  {
   "cell_type": "code",
   "execution_count": 47,
   "metadata": {},
   "outputs": [],
   "source": [
    "Q1 = df['Purchase'].quantile(0.25)\n",
    "Q3 = df['Purchase'].quantile(0.75)\n",
    "IQR = Q3 - Q1\n",
    "\n",
    "limite_superior = Q3 + 1.5 * IQR\n",
    "limite_inferior = Q1 - 1.5 * IQR\n",
    "\n",
    "outliers = df[(df['Purchase'] > limite_superior) | (df['Purchase'] < limite_inferior)]"
   ]
  },
  {
   "cell_type": "markdown",
   "metadata": {},
   "source": [
    "Aplicando Machine Learning - Pipeline e Encoding"
   ]
  },
  {
   "cell_type": "code",
   "execution_count": 48,
   "metadata": {},
   "outputs": [],
   "source": [
    "ordinal_encoder = OrdinalEncoder()\n",
    "onehot_encoder = OneHotEncoder(sparse_output=False)\n",
    "label_encoder = LabelEncoder()"
   ]
  },
  {
   "cell_type": "code",
   "execution_count": null,
   "metadata": {},
   "outputs": [],
   "source": [
    "df_ml.info()"
   ]
  },
  {
   "cell_type": "code",
   "execution_count": null,
   "metadata": {},
   "outputs": [],
   "source": [
    "print(df_ml.isnull().sum())"
   ]
  },
  {
   "cell_type": "markdown",
   "metadata": {},
   "source": [
    "Tratamento dos Dados para os Modelos de Machine Learning"
   ]
  },
  {
   "cell_type": "code",
   "execution_count": 51,
   "metadata": {},
   "outputs": [],
   "source": [
    "df_ml = df_ml.drop(columns=['User_ID', 'Product_ID'], axis=1)"
   ]
  },
  {
   "cell_type": "code",
   "execution_count": 52,
   "metadata": {},
   "outputs": [],
   "source": [
    "df_ml['Stay_In_Current_City_Years'] = df_ml['Stay_In_Current_City_Years'].str.replace('+', '').astype(int)"
   ]
  },
  {
   "cell_type": "code",
   "execution_count": 53,
   "metadata": {},
   "outputs": [],
   "source": [
    "df['Marital_Status'] = df['Marital_Status'].astype(str)\n",
    "df_ml['Gender'] = df_ml['Gender'].astype(str)\n",
    "df_ml['City_Category'] = df_ml['City_Category'].astype(str)\n",
    "df_ml['Occupation'] = df_ml['Occupation'].astype(str)\n",
    "df_ml['Product_Category'] = df_ml['Product_Category'].astype(str)"
   ]
  },
  {
   "cell_type": "code",
   "execution_count": 54,
   "metadata": {},
   "outputs": [],
   "source": [
    "faixa_etaria = {\n",
    "    '0-17': 0,\n",
    "    '18-25': 1,\n",
    "    '26-35': 2,\n",
    "    '36-45': 3,\n",
    "    '46-50': 4,\n",
    "    '51-55': 5,\n",
    "    '55+': 6\n",
    "}\n",
    "\n",
    "df_ml['Age'] = df_ml['Age'].map(faixa_etaria)"
   ]
  },
  {
   "cell_type": "code",
   "execution_count": 55,
   "metadata": {},
   "outputs": [],
   "source": [
    "#ordinal_columns = ['Age', 'Stay_In_Current_City_Years'] - Já tratado manualmente\n",
    "categoricos_encoder = ['Gender', 'City_Category', 'Occupation', 'Product_Category']\n"
   ]
  },
  {
   "cell_type": "code",
   "execution_count": null,
   "metadata": {},
   "outputs": [],
   "source": [
    "df_ml['Purchase'].describe()"
   ]
  },
  {
   "cell_type": "code",
   "execution_count": 72,
   "metadata": {},
   "outputs": [],
   "source": [
    "Q1 = df_ml['Purchase'].quantile(0.25)\n",
    "Q3 = df_ml['Purchase'].quantile(0.75)\n",
    "IQR = Q3 - Q1\n",
    "\n",
    "limite_inferior = Q1 - 1.5 * IQR\n",
    "limite_superior = Q3 + 1.5 * IQR\n",
    "\n",
    "df_ml = df_ml[(df_ml['Purchase'] >= limite_inferior) & (df_ml['Purchase'] <= limite_superior)]"
   ]
  },
  {
   "cell_type": "code",
   "execution_count": null,
   "metadata": {},
   "outputs": [],
   "source": [
    "plt.figure(figsize=(10,6))\n",
    "sns.histplot(df_ml['Purchase'], bins=30, kde=True)\n",
    "plt.title('Distribuição dos Valores de Purchase (Sem Outliers)')\n",
    "plt.show()"
   ]
  },
  {
   "cell_type": "code",
   "execution_count": null,
   "metadata": {},
   "outputs": [],
   "source": [
    "df_final_ml = df_ml.copy()\n",
    "for itens in categoricos_encoder:\n",
    "    df_final_ml[itens] = label_encoder.fit_transform(df_ml[itens])\n",
    "\n",
    "df_final_ml.head()\n"
   ]
  },
  {
   "cell_type": "code",
   "execution_count": null,
   "metadata": {},
   "outputs": [],
   "source": [
    "df_final_ml.info()"
   ]
  },
  {
   "cell_type": "code",
   "execution_count": null,
   "metadata": {},
   "outputs": [],
   "source": [
    "df_final_ml.describe()"
   ]
  },
  {
   "cell_type": "code",
   "execution_count": 83,
   "metadata": {},
   "outputs": [],
   "source": [
    "# Features (X) e alvo para Classificação (y1), Regressão (y2)\n",
    "X = df_final_ml.drop(['Purchase'], axis=1) # Features\n",
    "y = df_final_ml['Purchase'] # Labels"
   ]
  },
  {
   "cell_type": "markdown",
   "metadata": {},
   "source": [
    "Normalização dos Dados (Labels)"
   ]
  },
  {
   "cell_type": "code",
   "execution_count": null,
   "metadata": {},
   "outputs": [],
   "source": [
    "y = pd.DataFrame(y)\n",
    "scaler = RobustScaler().fit(y)\n",
    "y = scaler.fit_transform(y)\n",
    "y = pd.DataFrame(y, columns=['Purchase'])\n",
    "y"
   ]
  },
  {
   "cell_type": "markdown",
   "metadata": {},
   "source": [
    "Divisão dos dados em treino e teste\n",
    "\n",
    "X: Dados de treino (75%) com as features para a classificação.\n",
    "y: Dados de teste (25%) com as features para a classificação.\n"
   ]
  },
  {
   "cell_type": "code",
   "execution_count": 118,
   "metadata": {},
   "outputs": [],
   "source": [
    "X_treino, X_teste, y_treino, y_teste = train_test_split(X, y, test_size=0.25, random_state=42)"
   ]
  },
  {
   "cell_type": "code",
   "execution_count": null,
   "metadata": {},
   "outputs": [],
   "source": [
    "model = LinearRegression()\n",
    "model.fit(X_treino, y_treino)\n",
    "y_pred = model.predict(X_teste)\n",
    "acuracia = model.score(X_teste, y_teste)\n",
    "print(f'Acurácia Regressão Linear: {acuracia}') #R2"
   ]
  },
  {
   "cell_type": "code",
   "execution_count": null,
   "metadata": {},
   "outputs": [],
   "source": [
    "plt.figure(figsize=(8, 6))\n",
    "plt.scatter(y_teste, y_pred, color='blue', edgecolor='k')\n",
    "plt.plot([y_teste.min(), y_teste.max()], [y_teste.min(), y_teste.max()], color='red', lw=2)\n",
    "plt.xlabel('Valores Reais')\n",
    "plt.ylabel('Valores Previstos')\n",
    "plt.title('Valores Reais vs. Previstos')\n",
    "plt.show()"
   ]
  },
  {
   "cell_type": "code",
   "execution_count": null,
   "metadata": {},
   "outputs": [],
   "source": [
    "model = SGDClassifier(max_iter=1000)\n",
    "\n",
    "batch_size = 1000\n",
    "for i in range(0, len(X_treino), batch_size):\n",
    "    end_i = min(i + batch_size, len(X_treino))\n",
    "    model.partial_fit(X_treino[i:end_i], y_treino[i:end_i], classes=np.unique(y_treino))\n",
    "\n",
    "y_pred = model.predict(X_teste)\n",
    "\n",
    "acuracia = accuracy_score(y_teste, y_pred)\n",
    "print(f'Acurácia: {acuracia}')\n",
    "\n",
    "print(classification_report(y_teste, y_pred))"
   ]
  },
  {
   "cell_type": "code",
   "execution_count": null,
   "metadata": {},
   "outputs": [],
   "source": [
    "model = LogisticRegression(max_iter=5, C=0.1)\n",
    "model.fit(X_treino, y_treino)"
   ]
  },
  {
   "cell_type": "code",
   "execution_count": 125,
   "metadata": {},
   "outputs": [
    {
     "name": "stdout",
     "output_type": "stream",
     "text": [
      "Acurácia (Árvore de Decisão): 0.6412866288698971\n"
     ]
    }
   ],
   "source": [
    "\n",
    "model = DecisionTreeRegressor()\n",
    "model.fit(X_treino, y_treino)\n",
    "\n",
    "y_pred_dt = model.predict(X_teste)\n",
    "\n",
    "acuracia_dt = model.score(X_teste, y_teste)\n",
    "print(f'Acurácia (Árvore de Decisão): {acuracia_dt}')\n"
   ]
  },
  {
   "cell_type": "code",
   "execution_count": 128,
   "metadata": {},
   "outputs": [
    {
     "name": "stdout",
     "output_type": "stream",
     "text": [
      "Acurácia da Regressão Ridge: 0.18216057547126896\n"
     ]
    }
   ],
   "source": [
    "model = Ridge(alpha=1.0)  # Você pode ajustar alpha conforme necessário\n",
    "model.fit(X_treino, y_treino)\n",
    "\n",
    "y_pred_ridge = model.predict(X_teste)\n",
    "acuracia_ridge = model.score(X_teste, y_teste)\n",
    "print(f'Acurácia da Regressão Ridge: {acuracia_ridge}')"
   ]
  },
  {
   "cell_type": "code",
   "execution_count": 127,
   "metadata": {},
   "outputs": [
    {
     "name": "stderr",
     "output_type": "stream",
     "text": [
      "c:\\Users\\anne.borges\\AppData\\Local\\Programs\\Python\\Python312\\Lib\\site-packages\\sklearn\\base.py:1473: DataConversionWarning: A column-vector y was passed when a 1d array was expected. Please change the shape of y to (n_samples,), for example using ravel().\n",
      "  return fit_method(estimator, *args, **kwargs)\n"
     ]
    },
    {
     "name": "stdout",
     "output_type": "stream",
     "text": [
      "Acurácia Random Forest: 0.6464580745819661\n"
     ]
    }
   ],
   "source": [
    "model = RandomForestRegressor(n_estimators=10)\n",
    "model.fit(X_treino, y_treino)\n",
    "\n",
    "acuracia = model.score(X_teste, y_teste)\n",
    "print(f'Acurácia Random Forest: {acuracia}')"
   ]
  },
  {
   "cell_type": "code",
   "execution_count": 130,
   "metadata": {},
   "outputs": [
    {
     "name": "stdout",
     "output_type": "stream",
     "text": [
      "Acurácia Regressão Lasso: 0.1489211767119788\n"
     ]
    }
   ],
   "source": [
    "model = Lasso()\n",
    "model.fit(X_treino, y_treino)\n",
    "\n",
    "y_pred_lasso = model.predict(X_teste)\n",
    "\n",
    "acuracia_lasso = model.score(X_teste, y_teste)\n",
    "print(f'Acurácia Regressão Lasso: {acuracia_lasso}')"
   ]
  },
  {
   "cell_type": "code",
   "execution_count": 132,
   "metadata": {},
   "outputs": [
    {
     "name": "stderr",
     "output_type": "stream",
     "text": [
      "c:\\Users\\anne.borges\\AppData\\Local\\Programs\\Python\\Python312\\Lib\\site-packages\\sklearn\\ensemble\\_gb.py:668: DataConversionWarning: A column-vector y was passed when a 1d array was expected. Please change the shape of y to (n_samples, ), for example using ravel().\n",
      "  y = column_or_1d(y, warn=True)  # TODO: Is this still required?\n"
     ]
    },
    {
     "name": "stdout",
     "output_type": "stream",
     "text": [
      "Acurácia Gradient Boosting: 0.6282319128107754\n"
     ]
    }
   ],
   "source": [
    "\n",
    "model = GradientBoostingRegressor()\n",
    "\n",
    "model.fit(X_treino, y_treino)\n",
    "\n",
    "y_pred_gb = model.predict(X_teste)\n",
    "\n",
    "acuracia_gb = model.score(X_teste, y_teste)\n",
    "print(f'Acurácia Gradient Boosting: {acuracia_gb}')\n"
   ]
  },
  {
   "cell_type": "markdown",
   "metadata": {},
   "source": [
    "Análise Exploratória - Gráficos"
   ]
  },
  {
   "cell_type": "markdown",
   "metadata": {},
   "source": [
    "Matriz de Correlação"
   ]
  },
  {
   "cell_type": "code",
   "execution_count": 137,
   "metadata": {},
   "outputs": [
    {
     "data": {
      "image/png": "[encoded data removed]",
      "text/plain": [
       "<Figure size 1000x800 with 2 Axes>"
      ]
     },
     "metadata": {},
     "output_type": "display_data"
    }
   ],
   "source": [
    "correlacao_matrix = df_final_ml.corr()\n",
    "\n",
    "plt.figure(figsize=(10, 8))\n",
    "sns.heatmap(correlacao_matrix, annot=True, cmap='coolwarm', fmt='.2f')\n",
    "plt.title(\"Matriz de Correlação\")\n",
    "plt.show()"
   ]
  },
  {
   "cell_type": "markdown",
   "metadata": {},
   "source": [
    "???????\n",
    "1. A correlação entre Purchase e Product_Category é negativa (-0.43), ou seja, conforme o valor da categoria do produto aumenta, o valor de compra tende a diminuir.\n",
    "2. O Gênero (Gender) tem uma correlação positiva com Purchase (0.06), mas o valor é baixo, indicando uma relação fraca.\n",
    "3. A maior correlação observada é entre Marital_Status e Age (0.31), sugerindo que a idade pode influenciar o estado civil."
   ]
  },
  {
   "cell_type": "markdown",
   "metadata": {},
   "source": []
  },
  {
   "cell_type": "markdown",
   "metadata": {},
   "source": [
    "Distribuição dos Clientes"
   ]
  },
  {
   "cell_type": "code",
   "execution_count": null,
   "metadata": {},
   "outputs": [],
   "source": [
    "num_categorias = len(df['Marital_Status'])\n",
    "cores_aleatorias = np.random.rand(num_categorias, 3)\n",
    "\n",
    "plt.figure(figsize=(12, 8))\n",
    "\n",
    "plt.bar(percentual_compras_por_estado_civil.index, \n",
    "        percentual_compras_por_estado_civil.values, \n",
    "        color=cores_aleatorias,\n",
    "        edgecolor='black')\n",
    "\n",
    "plt.title('Percentual de Compras por Estado Civil', fontsize=16)\n",
    "plt.xlabel('Estado Civil', fontsize=12)\n",
    "plt.ylabel('Percentual(%)', fontsize=12)\n",
    "\n",
    "for i in range(len(percentual_compras_por_estado_civil)):\n",
    "    plt.text(i, percentual_compras_por_estado_civil.values[i] + 1,\n",
    "             f'{percentual_compras_por_estado_civil.values[i]:.1f}%',\n",
    "             ha='center', va='bottom')\n",
    "\n",
    "plt.tight_layout()\n",
    "plt.show()\n"
   ]
  },
  {
   "cell_type": "code",
   "execution_count": null,
   "metadata": {},
   "outputs": [],
   "source": [
    "num_categorias = len(df['City_Category'])\n",
    "cores_aleatorias = np.random.rand(num_categorias, 3)\n",
    "\n",
    "plt.figure(figsize=(12, 8))\n",
    "\n",
    "plt.bar(percentual_compras_por_cidade.index, \n",
    "        percentual_compras_por_cidade.values, \n",
    "        color=cores_aleatorias, \n",
    "        edgecolor='black')\n",
    "\n",
    "plt.title('Percentual de Compras por Cidade', fontsize=16)\n",
    "plt.xlabel('Cidade', fontsize=12)\n",
    "plt.ylabel('Percentual(%)', fontsize=12)\n",
    "\n",
    "for i in range(len(percentual_compras_por_cidade)):\n",
    "    plt.text(i, percentual_compras_por_cidade.values[i] + 1,\n",
    "             f'{percentual_compras_por_cidade.values[i]:.1f}%',\n",
    "             ha='center', va='bottom')\n",
    "\n",
    "plt.tight_layout()\n",
    "plt.show()\n"
   ]
  },
  {
   "cell_type": "code",
   "execution_count": null,
   "metadata": {},
   "outputs": [],
   "source": [
    "categorias = ['Feminino', 'Masculino']\n",
    "percentuais = [percentual_publico_feminino, percentual_publico_masculino]\n",
    "\n",
    "fig, ax = plt.subplots(figsize=(8, 6))\n",
    "\n",
    "bars = ax.bar(categorias, percentuais, color=['lavender', 'lightgreen'])\n",
    "\n",
    "plt.xlabel('Gênero')\n",
    "plt.ylabel('Percentual(%)')\n",
    "plt.title('Visão Geral do Público (Por Gênero)')\n",
    "\n",
    "for bar in bars:\n",
    "    yval = bar.get_height()\n",
    "    ax.text(bar.get_x() + bar.get_width() / 2, yval, f'{yval:.1f}%', ha='center', va='bottom')\n",
    "\n",
    "plt.tight_layout()\n",
    "plt.show()"
   ]
  },
  {
   "cell_type": "markdown",
   "metadata": {},
   "source": [
    "Média de compras por faixa etária."
   ]
  },
  {
   "cell_type": "code",
   "execution_count": null,
   "metadata": {},
   "outputs": [],
   "source": [
    "plt.figure(figsize=(10, 6))\n",
    "plt.plot(mediana_compras_por_faixa_etaria.index, mediana_compras_por_faixa_etaria.values, marker='o', linestyle='-', color='b')\n",
    "\n",
    "for i, value in enumerate(mediana_compras_por_faixa_etaria):\n",
    "    plt.text(i, value + 1, str(value), ha='center', va='bottom')\n",
    "\n",
    "plt.xlabel('Faixa Etária')\n",
    "plt.ylabel('Mediana de Compras')\n",
    "plt.title('Mediana de Compras por Faixa Etária')\n",
    "\n",
    "plt.show()\n"
   ]
  },
  {
   "cell_type": "markdown",
   "metadata": {},
   "source": [
    "Média de compras por gênero."
   ]
  },
  {
   "cell_type": "code",
   "execution_count": null,
   "metadata": {},
   "outputs": [],
   "source": [
    "\n",
    "fig, ax = plt.subplots(figsize=(8, 6))\n",
    "\n",
    "percentual_compras_genero.plot(kind='bar', color=['lavender', 'lightgreen'], ax=ax)\n",
    "\n",
    "plt.xlabel('Faixa Etária')\n",
    "plt.ylabel('Percentual(%)')\n",
    "plt.title('Percentual de Compras por Gênero')\n",
    "\n",
    "for i, value in enumerate(percentual_compras_genero):\n",
    "    perc = percentual_compras_genero.iloc[i]\n",
    "    ax.text(i, value + 1, f'{perc:.2f}%', ha='center', va='bottom', color='black')\n",
    "\n",
    "plt.show()\n"
   ]
  },
  {
   "cell_type": "markdown",
   "metadata": {},
   "source": [
    "Distribuição de Vendas por Categoria de Produto"
   ]
  },
  {
   "cell_type": "code",
   "execution_count": null,
   "metadata": {},
   "outputs": [],
   "source": [
    "percentual_compras_categoria_produto.plot(kind='bar', color='skyblue', figsize=(10, 6))\n",
    "percentual_compras_categoria_produto = percentual_compras_categoria_produto.sort_values(ascending=False)\n",
    "\n",
    "\n",
    "plt.xlabel('Produto')\n",
    "plt.ylabel('Percentual(%)')\n",
    "plt.title('Percentual de Vendas por Categoria de Produto')\n",
    "\n",
    "for i, value in enumerate(percentual_compras_categoria_produto):\n",
    "    perc = percentual_compras_categoria_produto.iloc[i]\n",
    "    ax.text(i, value + 1, f'{perc:.2f}%', ha='center', va='bottom', color='black')\n",
    "\n",
    "plt.show()"
   ]
  },
  {
   "cell_type": "code",
   "execution_count": null,
   "metadata": {},
   "outputs": [],
   "source": [
    "\n",
    "percentual_compras_por_product_id_top_10.plot(kind='bar', color='skyblue', figsize=(10, 6))\n",
    "percentual_compras_por_product_id_top_10 = percentual_compras_por_product_id_top_10.sort_values(ascending=False)\n",
    "\n",
    "\n",
    "plt.xlabel('Product Id')\n",
    "plt.ylabel('Percentual(%)')\n",
    "plt.title('Percentual Product Id Mais Vendidos (Top 10)')\n",
    "\n",
    "plt.show()"
   ]
  },
  {
   "cell_type": "code",
   "execution_count": null,
   "metadata": {},
   "outputs": [],
   "source": [
    "fig, ax = plt.subplots(figsize=(12, 8))\n",
    "\n",
    "percentual_compras_categoria_genero.plot(kind='bar', ax=ax, color=['#ff9999', '#66b3ff'])\n",
    "\n",
    "ax.set_title('Percentual de Vendas por Produto e Gênero', fontsize=16)\n",
    "ax.set_xlabel('Produto', fontsize=12)\n",
    "ax.set_ylabel('Percentual de Vendas (%)', fontsize=12)\n",
    "\n",
    "ax.legend(title='Gênero', bbox_to_anchor=(1.05, 1), loc='upper left')\n",
    "\n",
    "for p in ax.patches:\n",
    "    ax.annotate(f'{p.get_height():.1f}%',\n",
    "                (p.get_x() + p.get_width() / 2, p.get_height()),\n",
    "                ha='center', va='bottom')\n",
    "\n",
    "plt.xticks(rotation=45, ha='right')\n",
    "plt.tight_layout()\n",
    "\n",
    "plt.show()\n"
   ]
  },
  {
   "cell_type": "code",
   "execution_count": null,
   "metadata": {},
   "outputs": [],
   "source": [
    "df.boxplot(\"Purchase\", by = \"Gender\")\n",
    "df.boxplot(\"Purchase\", by = \"Occupation\")\n",
    "df.boxplot(\"Purchase\", by = \"Marital_Status\")\n",
    "df.boxplot(\"Purchase\", by = \"Product_Category\")\n",
    "df.boxplot(\"Purchase\", by = \"City_Category\")\n",
    "df.boxplot(\"Purchase\", by = \"Stay_In_Current_City_Years\")\n"
   ]
  }
 ],
 "metadata": {
  "kernelspec": {
   "display_name": "Python 3",
   "language": "python",
   "name": "python3"
  },
  "language_info": {
   "codemirror_mode": {
    "name": "ipython",
    "version": 3
   },
   "file_extension": ".py",
   "mimetype": "text/x-python",
   "name": "python",
   "nbconvert_exporter": "python",
   "pygments_lexer": "ipython3",
   "version": "3.12.4"
  }
 },
 "nbformat": 4,
 "nbformat_minor": 2
}
